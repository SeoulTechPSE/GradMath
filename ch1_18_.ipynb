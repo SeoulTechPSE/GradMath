{
 "cells": [
  {
   "cell_type": "markdown",
   "metadata": {},
   "source": [
    "[![Open In Colab](https://colab.research.google.com/assets/colab-badge.svg)](https://colab.research.google.com/github/SeoulTechPSE/GradMath/blob/master/ch1_18_.ipynb)"
   ]
  },
  {
   "cell_type": "markdown",
   "metadata": {},
   "source": [
    "#### 18. The Taylor Series\n",
    "\n",
    "**Theorem** $\\text{ }$ Let $f(z)$ be a function, analytic within and on a cirlce centered at $z=z_0$. The value of this function at any point $z$ within $\\Gamma$ is given by the uniformly convergent power series\n",
    "\n",
    ">$\\displaystyle f(z)=\\sum_{n=0}^\\infty a_n (z -z_0)^n$\n",
    "\n",
    "where\n",
    "\n",
    ">$\\displaystyle a_n=\\frac{1}{n!} \\left.\\frac{d^n f(z)}{dz^n}\\right|_{z=z_0} =\\frac{1}{2\\pi i} \\int_\\Gamma \\frac{f(z')}{(z' -z_0)^{n+1}}\\, dz'$\n",
    "\n",
    "**proof** $\\text{ }$ Since $f(z)$ is analytic, we have\n",
    "\n",
    ">$\\displaystyle f(z)=\\frac{1}{2\\pi i} \\int_\\Gamma \\frac{f(z')}{z' -z} \\,dz'$\n",
    "\n",
    "We expand the denominator as\n",
    "\n",
    ">$\\begin{align*}\n",
    " \\frac{1}{z' -z} &= \\frac{1}{(z' -z_0) -(z -z_0)} \\\\ \n",
    " &= \\frac{1}{(z' -z_0)} \\cdot  \\frac{1}{\\left( \\displaystyle 1 -\\frac{z -z_0}{z' -z_0} \\right)}\\\\ \n",
    " &= \\frac{1}{(z' -z_0)} \\sum_{n=0}^\\infty \\left( \\frac{z -z_0}{z' -z_0} \\right)^n, \\;\\;\\; \n",
    "   \\left| \\frac{z -z_0}{z' -z_0} \\right| < 1\n",
    "\\end{align*}$\n",
    "\n",
    "The above geometric series is therefore uniformly convergent and we find\n",
    "\n",
    ">$\\displaystyle f(z)=\\frac{1}{2\\pi i} \\sum_{n=0}^\\infty (z -z_0)^n \\int_\\Gamma \\frac{f(z')}{(z' -z_0)^{n+1}} \\,dz'$\n",
    "\n",
    "* What is the radius of convergence of the Taylor series? The answer is given immediately by inspection of Cauchy's formula \n",
    "\n",
    "    >$\\displaystyle f(z)=\\frac{1}{2\\pi i} \\int_\\Gamma \\frac{f(z')}{z' -z} \\,dz'$\n",
    "\n",
    "   on which the proof of the Taylor expansion rests. Indeed, this formula breaks down when $\\Gamma$ goes through or encircles a singularity of $f(z)$. Therefore, we are led to the conclusion that the radius of convergence of the power series cannot be greater than the distance from the point $z=z_0$ to the nearest singularity of $f(z)$. As an example, the series $1+z+z^2+\\cdots=1/(1-z)$ converges in the interior of the circle $|z|=1$\n",
    "   \n",
    "* We have demonstrated that an analytic function can be expanded in a Taylor series at any of its regular points. The converse is also true; i.e., a function that can be expanded in a power series\n",
    "\n",
    "    >$\\displaystyle f(z)=\\sum_{n=0}^\\infty a_n(z-z_0)^n$\n",
    "    \n",
    "    which is convergent in some neighborhood of the point $z=z_0$ is neccessarily analytic"
   ]
  },
  {
   "cell_type": "markdown",
   "metadata": {},
   "source": [
    "#### 19. Poisson's Integral Representation\n",
    "\n",
    "Consider the Taylor series\n",
    "\n",
    ">$\\displaystyle f(z)=\\sum_{n=0}^\\infty a_n z^n$\n",
    "\n",
    "where the complex constants $a_n$ are given by\n",
    "\n",
    ">$\\displaystyle a_n=\\frac{1}{2\\pi i} \\int_\\Gamma \\frac{f(z')}{z'^{n+1}}\\, dz'$ $(*)$\n",
    "\n",
    "Equation $(*)$ is also meaningful for $n < 0$, but naturally $a_{-|n|}$ (and hence $\\bar{a}_{-|n|}$) vanishes, since the integrand in $a_{-|n|}$ is analytic. Letting $z'=R e^{i\\theta'}$ in $(*)$, and using the notation $f(R,\\theta)=f(Re^{i\\theta})$, one has\n",
    "\n",
    ">$\\displaystyle a_n=\\frac{1}{2\\pi R^n} \\int_0^{2\\pi} \\left[ \\mathrm{Re} f(R,\\theta')\n",
    "  +i\\, \\mathrm{Im} f(R,\\theta') \\right] e^{-in\\theta'} \\,d\\theta'$\n",
    "  \n",
    "The equation $\\bar{a}_{-|n|}=0$ can thus be written as\n",
    "\n",
    ">$\\begin{align*}\n",
    " \\bar{a}_{-|n|} &= \\frac{1}{2\\pi R^{-|n|}} \\int_0^{2\\pi} \\overline{ \\left[ \\mathrm{Re} f(R,\\theta')\n",
    "  +i\\, \\mathrm{Im} f(R,\\theta')  \\right]e^{i|n|\\theta'}} \\,d\\theta'\\\\\n",
    "  &= \\frac{1}{2\\pi R^{-|n|}} \\int_0^{2\\pi} \\left[ \\mathrm{Re} f(R,\\theta')\n",
    "  -i\\, \\mathrm{Im} f(R,\\theta') \\right] e^{-i|n|\\theta'} \\,d\\theta' = 0\\\\ \n",
    " &\\Downarrow \\\\ \n",
    " \\int_0^{2\\pi} &\\mathrm{Re} f(R,\\theta')\\, e^{-in\\theta'} d\\theta'\n",
    "  = i\\int_0^{2\\pi} \\mathrm{Im} f(R,\\theta')\\, e^{-in\\theta'} d\\theta', \\;\\; (n>0) \n",
    "\\end{align*}$\n",
    "\n",
    "Hence\n",
    "\n",
    ">$\\displaystyle a_n=\\frac{1}{\\pi R^n} \\int_0^{2\\pi} \\mathrm{Re} f(R,\\theta') e^{-in\\theta'} \\,d\\theta', \\;\\; (n>0)$\n",
    "\n",
    "Setting $z=re^{i\\theta}$ with $r<R$, we find\n",
    "\n",
    ">$\\begin{align*}\n",
    " f(r,\\theta) &= \\frac{1}{2\\pi} \\int_0^{2\\pi} \\mathrm{Re} f(R,\\theta') \\,d\\theta'\n",
    "  +\\frac{i}{2\\pi} \\int_0^{2\\pi} \\mathrm{Im} f(R,\\theta') \\,d\\theta'  \\\\\n",
    "  &+\\frac{1}{\\pi} \\sum_{n=1}^\\infty \\left( \\frac{r}{R} \\right)^n \n",
    "  \\int_0^{2\\pi} \\mathrm{Re} f(R,\\theta') e^{in(\\theta -\\theta')}\\,d\\theta'\\\\ \n",
    " &= \\frac{i}{2\\pi} \\int_0^{2\\pi} \\mathrm{Im} f(R,\\theta') \\,d\\theta'\n",
    "  +\\frac{1}{2\\pi} \\int_0^{2\\pi} \\mathrm{Re} f(R,\\theta') \\left[ 1 + 2\\sum_{n=1}^\\infty \\left(\\frac{re^{i(\\theta-\\theta')}}{R} \\right)^n \\right]\\,d\\theta' \\\\\n",
    " &= \\frac{i}{2\\pi} \\int_0^{2\\pi} \\mathrm{Im} f(R,\\theta') \\,d\\theta'\n",
    "  +\\frac{1}{2\\pi} \\int_0^{2\\pi} \\mathrm{Re} f(R,\\theta') \\underbrace{\\left[ \\frac{Re^{i\\theta'} \n",
    "  +re^{i\\theta}}{Re^{i\\theta'} -re^{i\\theta}}\\right]\\left[ \\frac{Re^{-i\\theta'} \n",
    "  -re^{-i\\theta}}{Re^{-i\\theta'} -re^{-i\\theta}}\\right]}_{\\frac{R^2 -r^2+i2rR\\sin(\\theta-\\theta')}{R^2 -2rR \\cos(\\theta -\\theta')+r^2}} \\,d\\theta' \\\\\n",
    " &\\Downarrow \\\\\n",
    " \\mathrm{Re} f(r,\\theta) &= \\frac{1}{2\\pi} \\int_0^{2\\pi} \\mathrm{Re} f(R,\\theta') \\frac{R^2 -r^2}{R^2 -2rR \\cos(\\theta -\\theta')+r^2}\\,d\\theta', \\;\\; r<R\n",
    "\\end{align*} $\n",
    "\n",
    "The preceding equation is known as Poisson's formula. Analogously, one can derive\n",
    "\n",
    ">$\\displaystyle \\mathrm{Im} f(r,\\theta) = \\frac{1}{2\\pi} \\int_0^{2\\pi} \\mathrm{Im} f(R,\\theta') \\frac{R^2 -r^2}{R^2 -2rR \\cos(\\theta -\\theta')+r^2}\\,d\\theta', \\;\\; r<R$"
   ]
  },
  {
   "cell_type": "markdown",
   "metadata": {},
   "source": [
    "#### 20. The Laurent Series\n",
    "\n"
   ]
  },
  {
   "cell_type": "code",
   "execution_count": null,
   "metadata": {},
   "outputs": [],
   "source": []
  }
 ],
 "metadata": {
  "kernelspec": {
   "display_name": "Python 3",
   "language": "python",
   "name": "python3"
  },
  "language_info": {
   "codemirror_mode": {
    "name": "ipython",
    "version": 3
   },
   "file_extension": ".py",
   "mimetype": "text/x-python",
   "name": "python",
   "nbconvert_exporter": "python",
   "pygments_lexer": "ipython3",
   "version": "3.7.5"
  }
 },
 "nbformat": 4,
 "nbformat_minor": 4
}
