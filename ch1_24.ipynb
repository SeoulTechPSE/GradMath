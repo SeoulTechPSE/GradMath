{
 "cells": [
  {
   "cell_type": "markdown",
   "metadata": {},
   "source": [
    "[![Open In Colab](https://colab.research.google.com/assets/colab-badge.svg)](https://colab.research.google.com/github/SeoulTechPSE/GradMath/blob/master/ch1_24.ipynb)"
   ]
  },
  {
   "cell_type": "markdown",
   "metadata": {},
   "source": [
    "### 24. Multivalued Functions: Riemann Surfaces"
   ]
  },
  {
   "cell_type": "markdown",
   "metadata": {},
   "source": [
    "#### 24.1 Preliminaries\n",
    "\n",
    "The entire theory of analytic functions developed so far hinged upon the assumption that the functions considered, and their derivatives, were sinlge-valued. Fortunately, one can extend the theory of analytic functions to include a wide class of multivalued functions by making use of an ingenius geometrical construction due to Riemann and known as a Riemann surface\n",
    "\n",
    "Let us return to the case of the two coaxial cylinders, which was discussed in Section 10. There we showed that one could define a complex potential\n",
    "\n",
    ">$\\displaystyle F(z)=U(x,y)+iV(x,y)$\n",
    "\n",
    "which was an analytic function of $z$. Since $U(x,y)$ and $V(x,y)$ satisfy the Cauchy-Riemann equations, $\\nabla U$ and $\\nabla V$ are orthogonal and equal in magnitude (See the end of Section 4). It follows that\n",
    "\n",
    ">$\\displaystyle \\nabla U \\cdot \\mathbf{n}=\\nabla V \\cdot \\mathbf{t}$ $\\;\\;(*)$\n",
    "\n",
    "where $\\mathbf{n}$ and $\\mathbf{t}$ are mutually orthogonal unit vectors\n",
    "\n",
    "><img src=\"figs/gmath1_17.jpg\" width=\"250\">\n",
    "\n",
    "Consider now Gauss' theorem in two dimensions\n",
    "\n",
    ">$\\displaystyle \\varphi= \\oint \\mathbf{E} \\cdot \\mathbf{n}\\,dl=-\\oint \\nabla U \\cdot \\mathbf{n}\\,dl=4\\pi \\sigma$ \n",
    "\n",
    "where $\\sigma$ is the charge per unit length on the cylinder, and $dl=rd\\theta$ is an element of the circumference of the circle with radius $r$\n",
    "\n",
    ">$\\displaystyle R_1 < r <R_2$\n",
    "\n",
    "We have shown in Section 10 that\n",
    "\n",
    ">$\\displaystyle U(r,\\theta)=\\mathrm{Re} F(z)=a\\ln r + b$\n",
    "\n",
    "With the help of this expression, we can relate the constants $a$ and $\\sigma$. We obtain\n",
    "\n",
    ">$\\displaystyle \\varphi= -\\oint \\frac{a}{r} \\cdot rd\\theta=4\\pi \\sigma \\;\\Rightarrow\\; a=-2\\sigma$\n",
    "\n",
    "Now, using $(*)$, we have\n",
    "\n",
    ">$\\begin{align*}\n",
    "\\varphi &= -\\oint \\nabla U \\cdot \\mathbf{n}\\,dl=-\\oint \\nabla V \\cdot \\mathbf{t} \\,dl \\\\ \n",
    " &= \\left.-\\oint \\left( \\frac{\\partial V}{\\partial r}\\mathbf{n} \n",
    "   +\\frac{1}{r}\\frac{\\partial V}{\\partial\\theta}\\mathbf{t} \\right ) \\cdot \\mathbf{t}\\, r \\,d\\theta \n",
    " = -V(r,\\theta)\\, \\right|_0^{2\\pi} \\;\\;(\\circ)\n",
    "\\end{align*}$ \n",
    " \n",
    "If $V(r,\\theta)$ were a single-valued function, the RHS of equation $(\\circ)$ would be zero, since $\\theta=2\\pi$ and $\\theta=0$ correspond to the same point in the complex plane; this would contradict Gauss' theorem. The contradiction is removed if $V(r,\\theta)$ is a multivalued function, i.e., if\n",
    "\n",
    ">$\\displaystyle V(r,2\\pi)\\neq V(r,0)$\n",
    "\n",
    "In fact, we showed in Section 10 that $V(r,\\theta)$ is indeed a multivalued function, since we had\n",
    "\n",
    ">$\\displaystyle V(r,\\theta)=\\mathrm{Im} F(z) = A\\theta$\n",
    "\n",
    "Thus we have\n",
    "\n",
    ">$\\displaystyle V(r,\\theta)=-2\\sigma \\theta$\n",
    "\n",
    "so that\n",
    "\n",
    ">$\\displaystyle \\varphi= 2\\sigma\\theta \\,\\biggr|_0^{2\\pi}=4\\pi\\sigma$"
   ]
  },
  {
   "cell_type": "markdown",
   "metadata": {},
   "source": [
    "#### 24.2 The Logarithmic Function and Its Riemann Surface\n",
    "\n",
    "We introduced the logarithmic function\n",
    "\n",
    ">$\\displaystyle \\ln z=\\ln|z| +i\\mathrm{arg} z$\n",
    "\n",
    "in which the argument of a complex number is defined only up to a multiple of $2\\pi$\n",
    "\n",
    ">$\\displaystyle \\mathrm{arg}z=\\theta +2\\pi n$, $\\;\\;n=0,\\pm 1,\\pm 2,\\cdots$\n",
    "\n",
    "To the same point in the complex plane correspond different values of the function $\\ln z$. These peculier properties of the logarithmic function can also be visualized by considering a closed path $\\mathrm{C}$ encircling the point $z=0$\n",
    "\n",
    "><img src=\"figs/gmath1_18.jpg\" width=\"250\">\n",
    "\n",
    "Suppose that we start at a point $z=z_0$ lying on $\\mathrm{C}$ and that we follow the path in the counterclockwise direction util we come back to the starting point $z=z_0$. The function $\\ln z$ changes continuously as we follow $\\mathrm{C}$, but after the completion of a full cycle, $\\ln z_0$ will have increased by $2\\pi i$, since $\\arg z$ will have increased by $2\\pi$\n",
    "\n",
    ">$\\displaystyle (\\ln z_0)_{\\mathrm{final}}=(\\ln z_0)_{\\mathrm{initial}} +2\\pi i$\n",
    "\n",
    "A point of the complex plane having the property that, after the completion of any circle around it, a given function is not restored to its initial value is called a **branch point** of the function. Thus the point $z=0$ is a branch point of $f(z)=\\ln z$. By considering the behavior of the function $f(1/z')=\\ln(1/z')$ at $z'=0$, we find similarly that *the point at infinity* is also a branch point of $\\ln z$.\n",
    "\n",
    "Let us draw a curve joining the two branch points of $\\ln z$; it can be taken as, for instance, a line starting from the origin and extending out to infinity in an arbitrary direction. Using a more descriptive language, we say that we **cut** the complex plane along the curve, which hereafter will be called a **branch cut**\n",
    "\n",
    "For definiteness, we shall assume that the $z$ plane is cut along the negative half of the real axis. One can define an infinite series of single-valued functions\n",
    "\n",
    ">$\\displaystyle f_0(z), f_{\\pm 1}(z), f_{\\pm 2}, \\cdots, f_{\\pm |n|}(z),\\cdots$\n",
    "\n",
    "where\n",
    "\n",
    ">$\\displaystyle f_n(z)=f_n(r,\\theta)=\\ln r +i(\\theta+2\\pi n)$, $\\;\\;-\\pi<\\theta<\\pi,\\;\\;0<r$\n",
    "\n",
    "We have now replaced the multivalued logarithmic function by a series of **different** functions that are analytic in the cut $z$ plane\n",
    "\n",
    "To show that $f_n(z)$ is analytic in the cut plane, consider the function defined by the integral\n",
    "\n",
    ">$\\displaystyle g(z)=\\int_a^z \\frac{1}{z'}\\,dz', \\;\\;a=r_a e^{i\\theta_a}$\n",
    "\n",
    "This integral can be taken as defining the logarithmic function. We choose the cut along the negative real axis and assume that the path of integration joining $a$ and $z$ is arbitray except that it does not intersect the cut. In that case, the integral is independent of the path because two paths that do not cross the cut cannot enclose the only singularity of the integrand located at the origin. But we have already shown that the integral $\\int_a^z f(z')\\,dz'$ is an analytic function of $z$ in regions where it does not depend on the path connecting $a$ and $z$. Hence $g(z)$ is analytic in the cut $z$ plane.\n",
    "\n",
    "><img src=\"figs/gmath1_19.jpg\" width=\"250\">\n",
    "\n",
    "Choosing the path of integration as shown in the above figure, which runs first along the segment $\\overrightarrow{ab}$ and then the arc $\\overrightarrow{bz}$, we easily find that\n",
    "\n",
    ">$\\displaystyle g(z)=\\ln r +i\\theta -(\\ln r_a +i\\theta_a)$\n",
    "\n",
    "Thus, $g(z)$ differs from $f_n(z)$ by a constant only, which proves the analyticity of $f_n(z)$ in the cut complex plane\n",
    "\n",
    "The contradiction brought about by the existence of branch points has been removed, although somewhat artificially, for any of the functions $f_n(z)$, since it is now no longer possible to encircle a branch point without crossing the cut\n",
    "\n",
    "Let us now observe that each function $f_n(z)$ suffers a discontinuity across the cut. Above the cut we have\n",
    "\n",
    ">$\\displaystyle f_n(r,\\pi-\\varepsilon)=\\ln r+i[(2n+1)\\pi -\\varepsilon], \\;\\;\\varepsilon>0$\n",
    "\n",
    "while below the cut\n",
    "\n",
    ">$\\displaystyle f_n(r,-\\pi+\\varepsilon)=\\ln r+i[(2n-1)\\pi +\\varepsilon], \\;\\;\\varepsilon>0$\n",
    "\n",
    "The discontinuity of $f_n(z)$ across the cut is therefore given by\n",
    "\n",
    ">$\\displaystyle \\lim_{\\varepsilon \\to +0}\\left[ f_n(r,\\pi-\\varepsilon) -f_n(r,-\\pi+\\varepsilon) \\right]=2\\pi i$\n",
    "\n",
    "On the other hand, the value of the function $f_n(z)$ just above the cut is the same as the value of the function $f_{n+1}(z)$ just below it\n",
    "\n",
    ">$\\displaystyle \\lim_{\\varepsilon \\to +0} f_n(r,\\pi-\\epsilon)=\\lim_{\\varepsilon \\to +0} f_{n+1}(r,-\\pi+\\epsilon)$\n",
    "\n",
    "This suggests the following geometrical construction: We superpose an infinite series of cut complex planes one on top of the other, each plane corresponding to a different value of $n$ ($=0,\\pm 1,\\pm 2,\\cdots$). The adjacent planes are connected along the cut; the upper lip of the cut in the $n$-th plane is connected to the lower lip of the cut in the $(n+1)$st plane. Hence, a crossing of the cut is equivalent to going to one of the two adjacent complex plane\n",
    "\n",
    "[<img src=\"codes/Riemann_Surface_Log.svg\" width=\"250\">](https://colab.research.google.com/github/SeoulTechPSE/GradMath/blob/master/codes/fig01_Riemann_Surface_Log.ipynb)\n"
   ]
  },
  {
   "cell_type": "markdown",
   "metadata": {},
   "source": [
    "#### 24.3 The Functions $f(z)=z^{1/n}$ and Their Riemann Surfaces"
   ]
  },
  {
   "cell_type": "markdown",
   "metadata": {},
   "source": [
    "#### 24.4 The Function $f(z)=(z^2 -1)^{1/2}$ and Its Riemann Surface"
   ]
  },
  {
   "cell_type": "markdown",
   "metadata": {},
   "source": [
    "#### 24.5 Concluding Remarks"
   ]
  }
 ],
 "metadata": {
  "kernelspec": {
   "display_name": "Python 3",
   "language": "python",
   "name": "python3"
  },
  "language_info": {
   "codemirror_mode": {
    "name": "ipython",
    "version": 3
   },
   "file_extension": ".py",
   "mimetype": "text/x-python",
   "name": "python",
   "nbconvert_exporter": "python",
   "pygments_lexer": "ipython3",
   "version": "3.7.5"
  }
 },
 "nbformat": 4,
 "nbformat_minor": 4
}
