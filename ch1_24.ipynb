{
 "cells": [
  {
   "cell_type": "markdown",
   "metadata": {},
   "source": [
    "[![Open In Colab](https://colab.research.google.com/assets/colab-badge.svg)](https://colab.research.google.com/github/SeoulTechPSE/GradMath/blob/master/ch1_24.ipynb)"
   ]
  },
  {
   "cell_type": "markdown",
   "metadata": {},
   "source": [
    "### 24. Multivalued Functions: Riemann Surfaces"
   ]
  },
  {
   "cell_type": "markdown",
   "metadata": {},
   "source": [
    "#### 24.1 Preliminaries\n",
    "\n",
    "The entire theory of analytic functions developed so far hinged upon the assumption that the functions considered, and their derivatives, were sinlge-valued. Fortunately, one can extend the theory of analytic functions to include a wide class of multivalued functions by making use of an ingenius geometrical construction due to Riemann and known as a Riemann surface\n",
    "\n",
    "Let us return to the case of the two coaxial cylinders, which was discussed in Section 10. There we showed that one could define a complex potential\n",
    "\n",
    ">$\\displaystyle F(z)=U(x,y)+iV(x,y)$\n",
    "\n",
    "which was an analytic function of $z$. Since $U(x,y)$ and $V(x,y)$ satisfy the Cauchy-Riemann equations, $\\nabla U$ and $\\nabla V$ are orthogonal and equal in magnitude (See the end of Section 4). It follows that\n",
    "\n",
    ">$\\displaystyle \\nabla U \\cdot \\mathbf{n}=\\nabla V \\cdot \\mathbf{t}$ $\\;\\;(*)$\n",
    "\n",
    "where $\\mathbf{n}$ and $\\mathbf{t}$ are mutually orthogonal unit vectors\n",
    "\n",
    "><img src=\"figs/gmath1_17.jpg\" width=\"250\">\n",
    "\n",
    "Consider now Gauss' theorem in two dimensions\n",
    "\n",
    ">$\\displaystyle \\varphi= \\oint \\mathbf{E} \\cdot \\mathbf{n}\\,dl=-\\oint \\nabla U \\cdot \\mathbf{n}\\,dl=4\\pi \\sigma$ \n",
    "\n",
    "where $\\sigma$ is the charge per unit length on the cylinder, and $dl=rd\\theta$ is an element of the circumference of the circle with radius $r$\n",
    "\n",
    ">$\\displaystyle R_1 < r <R_2$\n",
    "\n",
    "We have shown in Section 10 that\n",
    "\n",
    ">$\\displaystyle U(r,\\theta)=\\mathrm{Re} F(z)=a\\ln r + b$\n",
    "\n",
    "With the help of this expression, we can relate the constants $a$ and $\\sigma$. We obtain\n",
    "\n",
    ">$\\displaystyle \\varphi= -\\oint \\frac{a}{r} \\cdot rd\\theta=4\\pi \\sigma \\;\\Rightarrow\\; a=-2\\sigma$\n",
    "\n",
    "Now, using $(*)$, we have\n",
    "\n",
    ">$\\begin{align*}\n",
    "\\varphi &= -\\oint \\nabla U \\cdot \\mathbf{n}\\,dl=-\\oint \\nabla V \\cdot \\mathbf{t} \\,dl \\\\ \n",
    " &= \\left.-\\oint \\left( \\frac{\\partial V}{\\partial r}\\mathbf{n} \n",
    "   +\\frac{1}{r}\\frac{\\partial V}{\\partial\\theta}\\mathbf{t} \\right ) \\cdot \\mathbf{t}\\, r \\,d\\theta \n",
    " = -V(r,\\theta)\\, \\right|_0^{2\\pi} \n",
    "\\end{align*}$ $\\;\\;(\\circ)$\n",
    " \n",
    "If $V(r,\\theta)$ were a single-valued function, the RHS of equation $(\\circ)$ would be zero, since $\\theta=2\\pi$ and $\\theta=0$ correspond to the same point in the complex plane; this would contradict Gauss' theorem. The contradiction is removed if $V(r,\\theta)$ is a multivalued function, i.e., if\n",
    "\n",
    ">$\\displaystyle V(r,2\\pi)\\neq V(r,0)$\n",
    "\n",
    "In fact, we showed in Section 10 that $V(r,\\theta)$ is indeed a multivalued function, since we had\n",
    "\n",
    ">$\\displaystyle V(r,\\theta)=\\mathrm{Im} F(z) = A\\theta$\n",
    "\n",
    "Thus we have\n",
    "\n",
    ">$\\displaystyle V(r,\\theta)=-2\\sigma \\theta$\n",
    "\n",
    "so that\n",
    "\n",
    ">$\\displaystyle \\varphi= 2\\sigma\\theta \\,\\biggr|_0^{2\\pi}=4\\pi\\sigma$"
   ]
  },
  {
   "cell_type": "markdown",
   "metadata": {},
   "source": [
    "#### 24.2 The Logarithmic Function and Its Riemann Surface"
   ]
  },
  {
   "cell_type": "markdown",
   "metadata": {},
   "source": [
    "#### 24.3 The Functions $f(z)=z^{1/n}$ and Their Riemann Surfaces"
   ]
  },
  {
   "cell_type": "markdown",
   "metadata": {},
   "source": [
    "#### 24.4 The Function $f(z)=(z^2 -1)^{1/2}$ and Its Riemann Surface"
   ]
  },
  {
   "cell_type": "markdown",
   "metadata": {},
   "source": [
    "#### 24.5 Concluding Remarks"
   ]
  }
 ],
 "metadata": {
  "kernelspec": {
   "display_name": "Python 3",
   "language": "python",
   "name": "python3"
  },
  "language_info": {
   "codemirror_mode": {
    "name": "ipython",
    "version": 3
   },
   "file_extension": ".py",
   "mimetype": "text/x-python",
   "name": "python",
   "nbconvert_exporter": "python",
   "pygments_lexer": "ipython3",
   "version": "3.7.5"
  }
 },
 "nbformat": 4,
 "nbformat_minor": 4
}
