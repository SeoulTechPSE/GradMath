{
 "cells": [
  {
   "cell_type": "markdown",
   "metadata": {},
   "source": [
    "[![Open In Colab](https://colab.research.google.com/assets/colab-badge.svg)](https://colab.research.google.com/github/SeoulTechPSE/GradMath/blob/master/ch1_22.ipynb)"
   ]
  },
  {
   "cell_type": "markdown",
   "metadata": {},
   "source": [
    "### 22. The Calculus of Residues"
   ]
  },
  {
   "cell_type": "markdown",
   "metadata": {},
   "source": [
    "#### 22.1 Theorem of Residues\n",
    "\n",
    "Let $f(z)$ be a function of a complex variable which is analytic everywhere on and within a closed curve $\\mathrm{C}$, with the exception of a point $z_0$ in the interior of $\\mathrm{C}$ where $f(z)$ may have an isolated singularity. Then \n",
    "the integral\n",
    "\n",
    ">$\\displaystyle \\frac{1}{2\\pi i} \\int_\\mathrm{C} f(z')\\,dz'$ $\\;\\;(*)$\n",
    "\n",
    "which vanishes by virtue of Cauchy's theorem when $z_0$ is a regular point of $f(z)$, need no longer vanish if $z_0$ is a singular point of that function\n",
    "\n",
    "We generalize Cauchy's theorem by setting $(*)$ equal to a quantity that may or may not vahish, depending upon the nature of the point $z_0$. This quantity is called the **residue** of $f(z)$ at the point $z_0$ and denoted by $\\mathrm{Res} f(z_0)$:\n",
    "\n",
    ">$\\displaystyle \\mathrm{Res} f(z_0) \\equiv \\frac{1}{2\\pi i} \\int_\\mathrm{C} f(z')\\,dz'$\n",
    "\n",
    "If $z_0$ is a regular point of $f(z)$, then evidently $\\mathrm{Res} f(z_0)=0$; in all other cases we need to evaluate $\\mathrm{Res} f(z_0)$"
   ]
  },
  {
   "cell_type": "markdown",
   "metadata": {},
   "source": [
    "#### 22.2 Evaluation of Integrals"
   ]
  }
 ],
 "metadata": {
  "kernelspec": {
   "display_name": "Python 3",
   "language": "python",
   "name": "python3"
  },
  "language_info": {
   "codemirror_mode": {
    "name": "ipython",
    "version": 3
   },
   "file_extension": ".py",
   "mimetype": "text/x-python",
   "name": "python",
   "nbconvert_exporter": "python",
   "pygments_lexer": "ipython3",
   "version": "3.7.5"
  }
 },
 "nbformat": 4,
 "nbformat_minor": 4
}
