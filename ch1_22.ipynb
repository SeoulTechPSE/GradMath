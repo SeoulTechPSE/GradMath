{
 "cells": [
  {
   "cell_type": "markdown",
   "metadata": {},
   "source": [
    "[![Open In Colab](https://colab.research.google.com/assets/colab-badge.svg)](https://colab.research.google.com/github/SeoulTechPSE/GradMath/blob/master/ch1_22.ipynb)"
   ]
  },
  {
   "cell_type": "markdown",
   "metadata": {},
   "source": [
    "### 22. The Calculus of Residues"
   ]
  },
  {
   "cell_type": "markdown",
   "metadata": {},
   "source": [
    "#### 22.1 Theorem of Residues\n",
    "\n",
    "Let $f(z)$ be a function of a complex variable which is analytic everywhere on and within a closed curve $\\mathrm{C}$, with the exception of a point $z_0$ in the interior of $\\mathrm{C}$ where $f(z)$ may have an isolated singularity. Then \n",
    "the integral\n",
    "\n",
    ">$\\displaystyle \\frac{1}{2\\pi i} \\int_\\mathrm{C} f(z')\\,dz'$ $\\;\\;(*)$\n",
    "\n",
    "which vanishes by virtue of Cauchy's theorem when $z_0$ is a regular point of $f(z)$, need no longer vanish if $z_0$ is a singular point of that function\n",
    "\n",
    "We generalize Cauchy's theorem by setting $(*)$ equal to a quantity that may or may not vahish, depending upon the nature of the point $z_0$. This quantity is called the **residue** of $f(z)$ at the point $z_0$ and denoted by $\\mathrm{Res} f(z_0)$:\n",
    "\n",
    ">$\\displaystyle \\mathrm{Res} f(z_0) \\equiv \\frac{1}{2\\pi i} \\int_\\mathrm{C} f(z')\\,dz'$\n",
    "\n",
    "If $z_0$ is a regular point of $f(z)$, then evidently $\\mathrm{Res} f(z_0)=0$; in all other cases we need to evaluate $\\mathrm{Res} f(z_0)$\n",
    "\n",
    "><img src=\"figs/gmath1_10.jpg\" width=\"320\">\n",
    "\n",
    "When the closed curve $\\mathrm{C}$ encloses $m$ isolated singularities of $f(z)$, we can enclose each singularity $z_j$ ($j=1,2,\\cdots,m$) within a small circle $\\gamma_j$ contained within $\\mathrm{C}$, and join each $\\gamma_j$ to $\\mathrm{C}$ by a pair of infinitesimally separated parallel paths. Considering the contours $\\mathrm{C}$, $\\gamma_j$, and the pairs of corresponding parallel paths as parts of a single contour, we easily arrive at the result\n",
    "\n",
    ">$\\displaystyle \\int_\\mathrm{C} f(z')\\,dz'=\\sum_{j=1}^m \\int_{\\gamma_j} f(z')\\, dz'$\n",
    "\n",
    "since $f(z)$ is analytic within the complete contour and the contributions from each pair of parallel paths cancel each other"
   ]
  },
  {
   "cell_type": "markdown",
   "metadata": {},
   "source": [
    "#### 22.2 Evaluation of Integrals"
   ]
  }
 ],
 "metadata": {
  "kernelspec": {
   "display_name": "Python 3",
   "language": "python",
   "name": "python3"
  },
  "language_info": {
   "codemirror_mode": {
    "name": "ipython",
    "version": 3
   },
   "file_extension": ".py",
   "mimetype": "text/x-python",
   "name": "python",
   "nbconvert_exporter": "python",
   "pygments_lexer": "ipython3",
   "version": "3.7.5"
  }
 },
 "nbformat": 4,
 "nbformat_minor": 4
}
