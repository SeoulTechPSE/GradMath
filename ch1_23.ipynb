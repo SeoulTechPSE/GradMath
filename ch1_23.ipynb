{
 "cells": [
  {
   "cell_type": "markdown",
   "metadata": {},
   "source": [
    "[![Open In Colab](https://colab.research.google.com/assets/colab-badge.svg)](https://colab.research.google.com/github/SeoulTechPSE/GradMath/blob/master/ch1_23.ipynb)"
   ]
  },
  {
   "cell_type": "markdown",
   "metadata": {},
   "source": [
    "### 23. The Principal Value of an Integral\n",
    "\n",
    "* Until now we have considered contour integrals of functions in two different cases. In the first case, the integral was along a curve inside, or on which there were no singularities of the function; this led us to **Cauchy's theorem**. In the second case, the boundary curve enclosed, but did not go through, singularities of the function, and this led us to the **theorem of residues**\n",
    "\n",
    "* There remains to consider the case when the path of integration actually passes **through** a singularity of the integrand. We shall show that the result of the integration will then depend on how the path is chosen to avoid the singularity\n",
    "\n",
    "* To be specific, consider the integral\n",
    "\n",
    ">$\\displaystyle \\int_{-\\infty}^{\\infty} \\frac{f(x)}{x -x_0}\\,dx$\n",
    "\n",
    "where $x_0$ is **on** the path of integration, i.e., on the real axis, and $f(x)$ is analytic at $x=x_0$. We shall suppose that\n",
    "\n",
    ">$\\displaystyle |x^\\alpha f(x)| \\to \\text{constant} \\;\\;\\text{ as } |x| \\to \\infty$\n",
    "\n",
    "where $\\alpha>0$"
   ]
  },
  {
   "cell_type": "code",
   "execution_count": null,
   "metadata": {},
   "outputs": [],
   "source": []
  }
 ],
 "metadata": {
  "kernelspec": {
   "display_name": "Python 3",
   "language": "python",
   "name": "python3"
  },
  "language_info": {
   "codemirror_mode": {
    "name": "ipython",
    "version": 3
   },
   "file_extension": ".py",
   "mimetype": "text/x-python",
   "name": "python",
   "nbconvert_exporter": "python",
   "pygments_lexer": "ipython3",
   "version": "3.7.5"
  }
 },
 "nbformat": 4,
 "nbformat_minor": 4
}
