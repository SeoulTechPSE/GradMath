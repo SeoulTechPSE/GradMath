{
 "cells": [
  {
   "cell_type": "markdown",
   "metadata": {},
   "source": [
    "[![Open In Colab](https://colab.research.google.com/assets/colab-badge.svg)](https://colab.research.google.com/github/SeoulTechPSE/GradMath/blob/master/ch1_25.ipynb)"
   ]
  },
  {
   "cell_type": "markdown",
   "metadata": {},
   "source": [
    "### 25. Example of the Evaluation of an Intetral Involving a Multivalued Function\n",
    "\n",
    "We shall evaluate the integral\n",
    "\n",
    ">$\\displaystyle I=\\int_0^\\infty \\frac{x^{p-1}}{x^2+1}\\,dx \\;\\;0<p<2$\n",
    "\n",
    "When $p$ is not an integer $(p\\neq 1)$, the integrand has a branch point at $x=0$. We take the cut along the positive real axis. Let us consider the contour integral\n",
    "\n",
    ">$\\displaystyle I'=\\int_\\mathrm{C} \\frac{z^{p-1}}{z^2+1}\\,dz$\n",
    "\n",
    "where $\\mathrm{C}$ is the path shown in the following\n",
    "\n",
    "><img src=\"figs/gmath1_22.jpg\" width=\"350\">\n",
    "\n",
    "It consists of a small circle $\\gamma$ of radius $\\varepsilon$ surrounding the branch point, of a large circle $\\Gamma$ of radius $r$, and of two straight lines $L_1$ and $L_2$, lying respectively just above and just below the branch cut. Thus $\\mathrm{C}$ does not cross the cut, and the integrand in the contour integral is single-valued within this contour. There are remains to choose a particular branch of the function. We choose the branch of the function $z^{p-1}$ as\n",
    "\n",
    ">$\\displaystyle z^{p-1}=|z|^{p-1} e^{i(p-1)\\theta}, \\;\\;0 \\leq \\theta \\leq 2\\pi$\n",
    "\n",
    "Now we  can proceed with the evaluation of $I'$. We first show that the circles $\\gamma$ and $\\Gamma$ do not contribute to $I'$ as $\\varepsilon \\to 0$ and $R \\to \\infty$:\n",
    "\n",
    ">$\\begin{align*}\n",
    " \\int_{\\gamma \\text{ or } \\Gamma} &\\frac{z^{p-1}}{z^2 +1} \\, dz\\\\ \n",
    " &\\Downarrow  z=\\rho e^{i\\theta} \\\\ \n",
    " &= \\int_0^{2\\pi} \\frac{\\rho^{p-1}e^{i(p-1)\\theta}}{\\rho^2 e^{i2\\theta} +1} i\\rho e^{i\\theta}\\,d\\theta \\\\ \n",
    " &\\Downarrow \\text{ when } \\rho \\to 0 \\text{ or } \\rho \\to \\infty \\\\\n",
    " &= 0\n",
    "\\end{align*}$\n",
    "\n",
    "There remains the evaluation of the contribution to $I'$ from the integrations along $L_1$ and $L_2$. Because a branch cut separates $L_1$ from $L_2$, the values of the integrand along these lines will not be the same. Along $L_1$, $z=x$, and therefore\n",
    "\n",
    ">$\\displaystyle z^{p-1}=x^{p-1}$\n",
    "\n",
    "Along $L_2$, $z=xe^{i2\\pi}$, and therefore\n",
    "\n",
    ">$\\displaystyle z^{p-1}=x^{p-1}e^{i2\\pi(p-1)}$\n",
    "\n",
    "Thus\n",
    "\n",
    ">$\\begin{align*}\n",
    "  \\int_{\\mathrm{C}} \\frac{z^{p-1}}{z^2 +1} \\, dz&= \\int_{L_1 \\text{ and } L_2} \\frac{z^{p-1}}{z^2 +1} \\, dz\\\\\n",
    "   &=\\int_0^{\\infty} \\left[x^{p-1} -x^{p -1} e^{i2\\pi(p-1)} \\right ] \\frac{1}{x^2 +1}\\,dx\\\\\n",
    " &= e^{i\\pi(p-1)} \\left[ e^{-i\\pi(p-1)} -e^{i\\pi(p-1)}\\right ] \\int_0^{\\infty} \\frac{x^{p-1}}{x^2 +1}\\,dx\\\\\n",
    " &= e^{i\\pi(p-1)} \\left[ -2i \\sin \\pi(p-1)\\right ] \\int_0^{\\infty} \\frac{x^{p-1}}{x^2 +1}\\,dx\\\\\n",
    " &= 2ie^{i\\pi(p-1)} \\sin \\pi p \\int_0^{\\infty} \\frac{x^{p-1}}{x^2 +1}\\,dx \\;\\;(+)\\\\\n",
    "\\end{align*}$\n",
    "\n",
    "On the other hand, since\n",
    "\n",
    ">$\\begin{align*}\n",
    " i^{p-1} &= e^{i\\pi(p-1)/2}\\\\ \n",
    " (-i)^{p-1} &= e^{i3\\pi(p-1)/2}\n",
    "\\end{align*}$\n",
    "\n",
    "at the simple poles $z=\\pm i$, we have\n",
    "\n",
    ">$\\begin{align*}\n",
    " \\int_{\\mathrm{C}} \\frac{z^{p-1}}{z^2 +1} \\,dz &= 2\\pi i \\left[ \\frac{e^{i\\pi(p-1)/2}}{2i} -\\frac{e^{i3\\pi(p-1)/2}}{2i} \\right]\\\\ \n",
    " &= -2\\pi i e^{i\\pi(p-1)} \\left[\\frac{e^{i\\pi(p-1)/2}}{2i} -\\frac{e^{-i\\pi(p-1)/2}}{2i} \\right ]\\\\ \n",
    " &= -2\\pi i e^{i\\pi(p-1)} \\sin \\frac{\\pi(p-1)}{2} \\\\\n",
    " &= 2\\pi i e^{i\\pi(p-1)} \\cos \\frac{\\pi p}{2}  \\;\\;(*)\n",
    "\\end{align*}$\n",
    "\n",
    "By combining equations $(+)$ and $(*)$ we obtain the desired result\n",
    "\n",
    ">$\\displaystyle  \\int_0^{2\\pi} \\frac{x^{p-1}}{x^2 +1} \\,dx = \\pi \\frac{\\displaystyle\\cos \\frac{\\pi p}{2}}{\\sin \\pi p}\n",
    " = \\frac{\\pi}{2} \\csc \\frac{\\pi p}{2} $"
   ]
  }
 ],
 "metadata": {
  "kernelspec": {
   "display_name": "Python 3",
   "language": "python",
   "name": "python3"
  },
  "language_info": {
   "codemirror_mode": {
    "name": "ipython",
    "version": 3
   },
   "file_extension": ".py",
   "mimetype": "text/x-python",
   "name": "python",
   "nbconvert_exporter": "python",
   "pygments_lexer": "ipython3",
   "version": "3.7.5"
  }
 },
 "nbformat": 4,
 "nbformat_minor": 4
}
