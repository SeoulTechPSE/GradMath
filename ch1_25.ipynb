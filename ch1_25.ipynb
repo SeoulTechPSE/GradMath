{
 "cells": [
  {
   "cell_type": "markdown",
   "metadata": {},
   "source": [
    "[![Open In Colab](https://colab.research.google.com/assets/colab-badge.svg)](https://colab.research.google.com/github/SeoulTechPSE/GradMath/blob/master/ch1_25.ipynb)"
   ]
  },
  {
   "cell_type": "markdown",
   "metadata": {},
   "source": [
    "### 25. Example of the Evaluation of an Intetral Involving a Multivalued Function\n",
    "\n",
    "We shall evaluate the integral\n",
    "\n",
    ">$\\displaystyle I=\\int_0^\\infty \\frac{x^{p-1}}{x^2+1}\\,dx \\;\\;0<p<2$\n",
    "\n",
    "When $p$ is not an integer $(p\\neq 1)$, the integrand has a branch point at $x=0$. We take the cut along the positive real axis. Let us consider the contour integral\n",
    "\n",
    ">$\\displaystyle I'=\\int_\\mathrm{C} \\frac{z^{p-1}}{z^2+1}\\,dz$\n",
    "\n",
    "where $\\mathrm{C}$ is the path shown in the following\n",
    "\n",
    "><img src=\"figs/gmath1_22.jpg\" width=\"350\">\n",
    "\n",
    "It consists of a small circle $\\gamma$ of radius $\\varepsilon$ surrounding the branch point, of a large circle $\\Gamma$ of radius $r$, and of two straight lines $L_1$ and $L_2$, lying respectively just above and just below the branch cut. Thus $\\mathrm{C}$ does not cross the cut, and the integrand in the contour integral is single-valued within this contour. There are remains to choose a particular branch of the function. We choose the branch of the function $z^{p-1}$ as\n",
    "\n",
    ">$\\displaystyle z^{p-1}=|z|^{p-1} e^{i(p-1)\\theta}, \\;\\;0 \\leq \\theta \\leq 2\\pi$\n",
    "\n",
    "Now we  can proceed with the evaluation of $I'$. We first show that the circles $\\gamma$ and $\\Gamma$ do not contribute to $I'$ as $\\varepsilon \\to 0$ and $R \\to \\infty$:\n",
    "\n"
   ]
  },
  {
   "cell_type": "code",
   "execution_count": null,
   "metadata": {},
   "outputs": [],
   "source": []
  }
 ],
 "metadata": {
  "kernelspec": {
   "display_name": "Python 3",
   "language": "python",
   "name": "python3"
  },
  "language_info": {
   "codemirror_mode": {
    "name": "ipython",
    "version": 3
   },
   "file_extension": ".py",
   "mimetype": "text/x-python",
   "name": "python",
   "nbconvert_exporter": "python",
   "pygments_lexer": "ipython3",
   "version": "3.7.5"
  }
 },
 "nbformat": 4,
 "nbformat_minor": 4
}
