{
 "cells": [
  {
   "cell_type": "markdown",
   "metadata": {},
   "source": [
    "[![Open In Colab](https://colab.research.google.com/assets/colab-badge.svg)](https://colab.research.google.com/github/SeoulTechPSE/GradMath/blob/master/ch1_25.ipynb)"
   ]
  },
  {
   "cell_type": "markdown",
   "metadata": {},
   "source": [
    "### 25. Example of the Evaluation of an Intetral Involving a Multivalued Function\n",
    "\n",
    "We shall evaluate the integral\n",
    "\n",
    ">$\\displaystyle I=\\int_0^\\infty \\frac{x^2+1}{x^{p-1}}\\,dx \\;\\;0<p<2$\n",
    "\n",
    "When $p$ is not an integer $(p\\neq 1)$, the integrand has a branch point at $x=0$. We take the cut along the positive real axis. Let us consider the contour integral\n",
    "\n",
    ">$\\displaystyle I'=\\int_\\mathrm{C} \\frac{z^2+1}{z^{p-1}}\\,dz$\n",
    "\n",
    "where $\\mathrm{C}$ is the path shown in the following\n",
    "\n",
    "><img src=\"figs/gmath1_22.jpg\" width=\"350\">\n",
    "\n",
    "It consists of a small $\\gamma$ of radius $\\varepsilon$ surrounding the branch point, of a large circle $Gamma$ of radius $r$, and of two straight lines $L_1$ and $L_2$, lying respectively just above and just below the branch cut."
   ]
  },
  {
   "cell_type": "code",
   "execution_count": null,
   "metadata": {},
   "outputs": [],
   "source": []
  }
 ],
 "metadata": {
  "kernelspec": {
   "display_name": "Python 3",
   "language": "python",
   "name": "python3"
  },
  "language_info": {
   "codemirror_mode": {
    "name": "ipython",
    "version": 3
   },
   "file_extension": ".py",
   "mimetype": "text/x-python",
   "name": "python",
   "nbconvert_exporter": "python",
   "pygments_lexer": "ipython3",
   "version": "3.7.5"
  }
 },
 "nbformat": 4,
 "nbformat_minor": 4
}
