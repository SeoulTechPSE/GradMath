{
 "cells": [
  {
   "cell_type": "markdown",
   "metadata": {},
   "source": [
    "[Open In GitHub](https://github.com/SeoulTechPSE/GradMath/blob/master/The_Theory_of_Analytic_Functions.ipynb)"
   ]
  },
  {
   "cell_type": "markdown",
   "metadata": {},
   "source": [
    "# The Theory of Analytic Functions"
   ]
  },
  {
   "cell_type": "markdown",
   "metadata": {},
   "source": [
    "1. [Elementary Notions of Set Theory and Analysis](https://colab.research.google.com/github/SeoulTechPSE/GradMath/blob/master/ch1_01.ipynb)\n",
    "2. [Functions of a Complex Argument](https://colab.research.google.com/github/SeoulTechPSE/GradMath/blob/master/ch1_02_04.ipynb)\n",
    "3. [The Differential Calculus of Functions of a Complex Variable](https://colab.research.google.com/github/SeoulTechPSE/GradMath/blob/master/ch1_02_04.ipynb)\n",
    "4. [The Cauchy-Riemann Conditions](https://colab.research.google.com/github/SeoulTechPSE/GradMath/blob/master/ch1_02_04.ipynb)\n",
    "5. [The Integral Calculus of Functions of a Complex Variable](https://colab.research.google.com/github/SeoulTechPSE/GradMath/blob/master/ch1_05_08.ipynb)\n",
    "6. [The Darboux Inequality](https://colab.research.google.com/github/SeoulTechPSE/GradMath/blob/master/ch1_05_08.ipynb)\n",
    "7. [Some Definitions](https://colab.research.google.com/github/SeoulTechPSE/GradMath/blob/master/ch1_05_08.ipynb)\n",
    "8. [Examples of Analytic Functions](https://colab.research.google.com/github/SeoulTechPSE/GradMath/blob/master/ch1_05_08.ipynb)\n",
    "9. [Conformal Transformations](https://colab.research.google.com/github/SeoulTechPSE/GradMath/blob/master/ch1_09_10.ipynb)\n",
    "10. [A Simple Application of Conformal Mapping](https://colab.research.google.com/github/SeoulTechPSE/GradMath/blob/master/ch1_09_10.ipynb)\n",
    "11. [The Cauchy Theorem](https://colab.research.google.com/github/SeoulTechPSE/GradMath/blob/master/ch1_11_13.ipynb)\n",
    "12. [Cauchy's Integral Representation](https://colab.research.google.com/github/SeoulTechPSE/GradMath/blob/master/ch1_11_13.ipynb)\n",
    "13. [The Derivatives of an Analytic Function](https://colab.research.google.com/github/SeoulTechPSE/GradMath/blob/master/ch1_11_13.ipynb)\n",
    "14. [Local Behavior of an Analytic Function](https://colab.research.google.com/github/SeoulTechPSE/GradMath/blob/master/ch1_14_17.ipynb)\n",
    "15. [The Cauchy-Liouville Theorem](https://colab.research.google.com/github/SeoulTechPSE/GradMath/blob/master/ch1_14_17.ipynb)\n",
    "16. [The Theorem of Morera](https://colab.research.google.com/github/SeoulTechPSE/GradMath/blob/master/ch1_14_17.ipynb)\n",
    "17. [Manipulations with Series of Analytic Functions](https://colab.research.google.com/github/SeoulTechPSE/GradMath/blob/master/ch1_14_17.ipynb)\n",
    "18. [The Taylor Series](https://colab.research.google.com/github/SeoulTechPSE/GradMath/blob/master/ch1_18_21.ipynb)\n",
    "19. [Poisson's Integral Representation](https://colab.research.google.com/github/SeoulTechPSE/GradMath/blob/master/ch1_18_21.ipynb)\n",
    "20. [The Laurent Series](https://colab.research.google.com/github/SeoulTechPSE/GradMath/blob/master/ch1_18_21.ipynb)\n",
    "21. [Zeros and Isolated Singular Points of Analytic Functions](https://colab.research.google.com/github/SeoulTechPSE/GradMath/blob/master/ch1_18_21.ipynb)\n",
    "22. [The Calculus of Residues](https://colab.research.google.com/github/SeoulTechPSE/GradMath/blob/master/ch1_22.ipynb)\n",
    "23. [The Principal Value of an Integral](https://colab.research.google.com/github/SeoulTechPSE/GradMath/blob/master/ch1_23.ipynb)"
   ]
  }
 ],
 "metadata": {
  "kernelspec": {
   "display_name": "Python 3",
   "language": "python",
   "name": "python3"
  },
  "language_info": {
   "codemirror_mode": {
    "name": "ipython",
    "version": 3
   },
   "file_extension": ".py",
   "mimetype": "text/x-python",
   "name": "python",
   "nbconvert_exporter": "python",
   "pygments_lexer": "ipython3",
   "version": "3.7.5"
  }
 },
 "nbformat": 4,
 "nbformat_minor": 4
}
