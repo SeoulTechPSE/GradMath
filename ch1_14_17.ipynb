{
 "cells": [
  {
   "cell_type": "markdown",
   "metadata": {},
   "source": [
    "[![Open In Colab](https://colab.research.google.com/assets/colab-badge.svg)](https://colab.research.google.com/github/SeoulTechPSE/GradMath/blob/master/ch1_14_17.ipynb)"
   ]
  },
  {
   "cell_type": "markdown",
   "metadata": {},
   "source": [
    "#### 14. Local Behavior of an Analytic Function\n",
    "\n",
    "**Theorem** $\\text{ }$ The modulus of an analytic function $f(z)$ cannot have a local maximum within the region of analyticity of the function\n",
    "\n",
    "**proof** $\\text{ }$ Consider an arbitrary regular point $z_0$ of $f(z)$. Then provided $r$ is small enough, $f(z)$ is analytic within and on a circle $\\Gamma$ of radius $r$ centered at $z=z_0$. According to the Cauchy integral formula, one has\n",
    "\n",
    ">$\\displaystyle f(z)=\\frac{1}{2\\pi i} \\int_\\Gamma \\frac{f(z)}{z -z_0}\\,dz$\n",
    "\n",
    "Using the Darboux inequality, we obtain\n",
    "\n",
    ">$\\displaystyle \\left| f(z_0) \\right| \\leq \\frac{1}{2\\pi} \\mathrm{max} \\left| \\frac{f(z)}{z-z_0} \\right|_{z \\in \\Gamma} \\cdot 2\\pi r=\\mathrm{max} |f(z)|_{z \\in \\Gamma}$\n",
    "\n",
    "Since one may choose $r$ arbitrarily small, in an arbitrarily small neighborhood of $z_0$, there always exists at least one point where\n",
    "\n",
    ">$\\displaystyle |f(z)| \\geq |f(z_0)|$\n",
    "\n",
    "Hence, $|f(z)|$ cannot have a local maximum at $z_0$.\n",
    "\n",
    "At a regular point $z=z_0$ such that $f(z_0)\\neq 0$, $1/f(z)$ is an analytic function of $z$. Therefore, $1/|f(z)|$ cannot have a maximum at $z=z_0$ and so $|f(z)|$ cannot have a minimum at this point\n",
    "\n",
    "An analogous result holds for the real and imaginary parts of an analytic fucntion $f(z)$. Applying the preceding theorem to the functions $e^{f(z)}$ and $e^{-i f(z)}$, we find that neither\n",
    "\n",
    ">$\\displaystyle \\left| e^{f(z)} \\right| \\equiv e^{\\mathrm{Re} f(z)}$ nor $\\displaystyle \\left| e^{-i f(z)} \\right| \\equiv e^{\\mathrm{Im} f(z)}$\n",
    "\n",
    "can have a local maximum at any regular point of $f(z)$. Since the exponential function is monotonic, that $\\mathrm{Re} f(z)$ and $\\mathrm{Im} f(z)$ also cannot have a local maximum"
   ]
  },
  {
   "cell_type": "markdown",
   "metadata": {},
   "source": [
    "#### 15. The Cauchy-Liouville Theorem\n",
    "\n",
    "**Theorem** $\\text{ }$ A bounded, entire function must be a constant\n",
    "\n",
    "**proof** $\\text{ }$ We start with the derivative formula\n",
    "\n",
    ">$\\displaystyle \\frac{df}{dz} = \\frac{1}{2\\pi i} \\int_\\mathrm{C} \\frac{f(z')}{(z' -z)^2} \\,dz'$\n",
    "\n",
    "Since $f(z)$ is an entire function, the closed contour $\\mathrm{C}$ may be chosen to be a very large circle of radius $R$ centered at $z$. Darboux's inequality yields\n",
    "\n",
    ">$\\displaystyle \\left| \\frac{df}{dz} \\right| \\leq \\frac{1}{2\\pi} \\frac{\\mathrm{max} |f|}{R^2} 2\\pi R =\\frac{\\mathrm{max} |f|}{R}$\n",
    "\n",
    "Now letting $R \\to \\infty$, we have, since $\\mathrm{max} |f|$ is finite\n",
    "\n",
    ">$\\displaystyle \\frac{df}{dz}=0$\n",
    "\n",
    "and therefore $f(z)$ is a constant\n",
    "\n",
    "* This theorem has as an implication that all genuine functions of a complex variable that are bounded at infinity must have at least one singularity in the complex plane"
   ]
  },
  {
   "cell_type": "markdown",
   "metadata": {},
   "source": [
    "#### 16. The Theorem of Morera\n",
    "\n",
    "The following theorem due to Morera is a converse of Cauchy's theorem. It follows from the fact that the derivative of an analytic function is itself analytic\n",
    "\n",
    "**Theorem** $\\text{ }$ If the integral\n",
    "\n",
    ">$\\displaystyle \\int_\\mathrm{C} f(z)\\, dz$\n",
    "\n",
    "of a function, which is continuous in some region, vanishes for any closed contour $\\mathrm{C}$ lying within this region, then $f(z)$ is analytic in that region\n",
    "\n",
    "**proof** $\\text{ }$ The vanishing of an integral along any closed path within some region means that the value of an integral along a path connecting any two points in the region does not depend on the path\n",
    "\n",
    "Thus, if $a$ is a fixed point and $z$ an arbitrary point of the region in question, the integral\n",
    "\n",
    ">$\\displaystyle F(z)=\\int_a^z f(z')\\,dz'$\n",
    "\n",
    "depends only on the choice of the points $a$ and $z$. We have\n",
    "\n",
    ">$\\begin{align*}\n",
    " \\frac{F(z +\\Delta z) -F(z)}{\\Delta z} &= \\frac{1}{\\Delta z} \\int_a^{z+\\Delta z} f(z')\\,dz' \n",
    "  -\\frac{1}{\\Delta z} \\int_a^{z} f(z')\\,dz'\\\\ \n",
    " &= \\frac{1}{\\Delta z} \\int_z^{z+\\Delta z} f(z')\\,dz' \\\\ \n",
    " &= \\frac{f(z)}{\\Delta z} \\underbrace{\\int_z^{z+\\Delta z} \\,dz'}_{\\Delta z} +\\underbrace{\\frac{1}{\\Delta z} \\int_z^{z+\\Delta z} \\left[ f(z') -f(z) \\right]\\,dz'}_{\\left| \\frac{1}{\\Delta z} \\int_z^{z+\\Delta z} \\left[ f(z') -f(z) \\right]\\,dz' \\right| \\;\\leq\\; \\mathrm{max} |f(z') -f(z)|} \\\\\n",
    " &\\Downarrow {\\scriptstyle \\Delta z \\to 0} \\\\\n",
    " \\frac{dF(z)}{dz} &=f(z)\n",
    "\\end{align*}$\n",
    "\n",
    "Therefore, $F(z)$ is analytic throughout the region. Thus $F(z)$ also has a second derivative and this implies that $f(z)$ is differentiable throughout the region"
   ]
  },
  {
   "cell_type": "markdown",
   "metadata": {},
   "source": [
    "#### 17. Manipulations with Series of Analytic Functions\n",
    "\n",
    "**Theorem** $\\text{ }$ If $f_n(z)$ $(n=1,2,\\cdots)$ is a sequence of analytic functions and if the infinite sum\n",
    "\n",
    ">$\\displaystyle \\sum_{n=1}^{\\infty} f_n(z) = f(z)$\n",
    "\n",
    "converges uniformly to $f(z)$ in any region $\\mathrm{R}' \\subset \\mathrm{R}$, then $f(z)$ is analytic in $\\mathrm{R}$ and\n",
    "\n",
    ">$\\displaystyle \\frac{df(z)}{dz}=\\sum_{n=1}^\\infty \\frac{df_n(z)}{dz}$\n",
    "\n",
    "**proof** $\\text{ }$ $f(z)$ is analytic by virtue of Morera's theorem:\n",
    "\n",
    ">$\\displaystyle  \\int_\\mathrm{C} f(z)\\,dz = \\sum_{n=1}^{\\infty} \\int_\\mathrm{C} f_n(z)\\,dz = 0$\n",
    "\n",
    "for any closed contour $\\mathrm{C} \\subset \\mathrm{R}$, since $f_n(z)$ are analytic functions. Also we have\n",
    "\n",
    ">$\\displaystyle \\frac{1}{2\\pi i} \\frac{f(z)}{(z -z_0)^2}=\\sum_{n=1}^\\infty \\frac{1}{2\\pi i} \\frac{f_n(z)}{(z -z_0)^2}$, $\\;\\;z_0 \\in \\mathrm{R}$\n",
    "\n",
    "Integrating along a closed contour $\\mathrm{C}$ encircling the point $z_0$, we get\n",
    "\n",
    ">$\\displaystyle \\frac{1}{2\\pi i} \\int_{\\mathrm{C}}\\frac{f(z)}{(z -z_0)^2}\\,dz=\\sum_{n=1}^\\infty \\frac{1}{2\\pi i} \\int_{\\mathrm{C}} \\frac{f_n(z)}{(z -z_0)^2}\\,dz$, $\\;\\;z_0 \\in \\mathrm{R}$\n",
    "\n",
    "or\n",
    "\n",
    ">$\\displaystyle \\left. \\frac{df(z)}{dz} \\right|_{z=z_0} =\\sum_{n=1}^\\infty \\left. \\frac{df_n(z)}{dz} \\right|_{z=z_0}$\n",
    "\n",
    "Since $z_0$ is arbitrary, we have proved the theorem"
   ]
  }
 ],
 "metadata": {
  "kernelspec": {
   "display_name": "Python 3",
   "language": "python",
   "name": "python3"
  },
  "language_info": {
   "codemirror_mode": {
    "name": "ipython",
    "version": 3
   },
   "file_extension": ".py",
   "mimetype": "text/x-python",
   "name": "python",
   "nbconvert_exporter": "python",
   "pygments_lexer": "ipython3",
   "version": "3.7.5"
  }
 },
 "nbformat": 4,
 "nbformat_minor": 4
}
